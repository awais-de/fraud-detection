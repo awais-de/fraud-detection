{
 "cells": [
  {
   "cell_type": "markdown",
   "id": "cd04fe4f",
   "metadata": {},
   "source": [
    "## Acquire Data"
   ]
  },
  {
   "cell_type": "code",
   "execution_count": 4,
   "id": "86e9820a",
   "metadata": {},
   "outputs": [],
   "source": [
    "import os\n",
    "import subprocess\n",
    "import shutil\n",
    "import kagglehub"
   ]
  },
  {
   "cell_type": "code",
   "execution_count": null,
   "id": "2a75e26b",
   "metadata": {},
   "outputs": [
    {
     "name": "stdout",
     "output_type": "stream",
     "text": [
      "📥 Downloading dataset from Kaggle: mlg-ulb/creditcardfraud\n",
      "Downloading from https://www.kaggle.com/api/v1/datasets/download/mlg-ulb/creditcardfraud?dataset_version_number=3...\n"
     ]
    },
    {
     "name": "stderr",
     "output_type": "stream",
     "text": [
      "100%|██████████| 66.0M/66.0M [00:02<00:00, 33.6MB/s]"
     ]
    },
    {
     "name": "stdout",
     "output_type": "stream",
     "text": [
      "Extracting files...\n"
     ]
    },
    {
     "name": "stderr",
     "output_type": "stream",
     "text": [
      "\n"
     ]
    },
    {
     "name": "stdout",
     "output_type": "stream",
     "text": [
      "✅ Dataset saved to data/raw\n"
     ]
    }
   ],
   "source": [
    "# Paths\n",
    "DATA_DIR = \"data/raw\"\n",
    "DATASET = \"mlg-ulb/creditcardfraud\"   # Kaggle dataset slug\n",
    "CSV_PATH = os.path.join(DATA_DIR, \"creditcard.csv\")\n",
    "\n",
    "# === DOWNLOAD FROM KAGGLE IF FILE DOESN'T EXIST ===\n",
    "if not os.path.exists(CSV_PATH):\n",
    "    try:\n",
    "        print(f\"📥 Downloading dataset from Kaggle: {DATASET}\")\n",
    "        dataset_cache = kagglehub.dataset_download(DATASET)\n",
    "        shutil.copytree(dataset_cache, DATA_DIR, dirs_exist_ok=True)\n",
    "        print(f\"✅ Dataset saved to {DATA_DIR}\")\n",
    "    except Exception as e:\n",
    "        print(f\"❌ Failed to download or copy dataset: {e}\")\n",
    "else:\n",
    "    print(f\"✅ {CSV_PATH} already exists. Skipping download.\")"
   ]
  },
  {
   "cell_type": "markdown",
   "id": "143fd531",
   "metadata": {},
   "source": [
    "## Preprocess Data"
   ]
  },
  {
   "cell_type": "code",
   "execution_count": null,
   "id": "765fe4ba",
   "metadata": {},
   "outputs": [],
   "source": []
  }
 ],
 "metadata": {
  "kernelspec": {
   "display_name": "venv",
   "language": "python",
   "name": "python3"
  },
  "language_info": {
   "codemirror_mode": {
    "name": "ipython",
    "version": 3
   },
   "file_extension": ".py",
   "mimetype": "text/x-python",
   "name": "python",
   "nbconvert_exporter": "python",
   "pygments_lexer": "ipython3",
   "version": "3.12.2"
  }
 },
 "nbformat": 4,
 "nbformat_minor": 5
}
